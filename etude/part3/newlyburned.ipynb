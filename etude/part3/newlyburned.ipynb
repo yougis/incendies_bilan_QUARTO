{
  "cells": [
    {
      "cell_type": "code",
      "metadata": {},
      "source": [
        "#| echo: false\n",
        "#| output: false\n",
        "#| label: Compute new burned surfaces\n",
        "data = data_S2_.read().to_crs(3857)\n",
        "\n",
        "data['annee'] = data['annee'].astype(int)\n",
        "\n",
        "annees = sorted(data.annee.unique().tolist())\n",
        "# Suppression de la valeur \n",
        "\n",
        "resultats = pd.DataFrame(columns=['Annee', 'Surface_Nouvelle', 'Surface_Ancienne'])\n",
        "# Analyser chaque année\n",
        "for annee in range(data['annee'].min(), data['annee'].max() + 1):\n",
        "    data_annee_actuelle = data[data['annee'] == annee]\n",
        "    data_annees_precedentes = data[data['annee'] < annee]\n",
        "    \n",
        "    if not data_annees_precedentes.empty:\n",
        "        data_precedente_union = data_annees_precedentes.dissolve()\n",
        "        surfaces_nouvelles = gpd.overlay(data_annee_actuelle, data_precedente_union, how='difference')\n",
        "    else:\n",
        "        surfaces_nouvelles = data_annee_actuelle\n",
        "\n",
        "    surface_nouvelle = surfaces_nouvelles.area.sum()\n",
        "    surface_ancienne = data_annee_actuelle.area.sum() - surface_nouvelle\n",
        "    \n",
        "\n",
        "    row = {'Annee': annee, 'Surface_Nouvelle': surface_nouvelle, 'Surface_Ancienne': surface_ancienne}\n",
        "    resultats = pd.concat([resultats,  pd.DataFrame([row])], ignore_index=True)\n"
      ],
      "id": "Compute-new-burned-surfaces",
      "execution_count": null,
      "outputs": []
    },
    {
      "cell_type": "code",
      "metadata": {},
      "source": [
        "#| echo: false\n",
        "#| output: true\n",
        "#| label: Output nouvelles surfaces brûlées\n",
        "\n",
        "resultats.set_index('Annee').plot(kind='bar', stacked=True)\n"
      ],
      "id": "Output-nouvelles-surfaces-brulees",
      "execution_count": null,
      "outputs": []
    }
  ],
  "metadata": {
    "kernelspec": {
      "name": "python3",
      "language": "python",
      "display_name": "Python 3 (ipykernel)"
    }
  },
  "nbformat": 4,
  "nbformat_minor": 5
}